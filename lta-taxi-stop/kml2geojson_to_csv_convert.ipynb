{
 "cells": [
  {
   "cell_type": "code",
   "execution_count": 7,
   "metadata": {},
   "outputs": [],
   "source": [
    "import kml2geojson\n",
    "kml2geojson.main.convert('lta-taxi-stop/lta-taxi-stop-kml.kml', 'lta-taxi-stop/json')"
   ]
  },
  {
   "cell_type": "code",
   "execution_count": 2,
   "metadata": {},
   "outputs": [],
   "source": [
    "# writing json file into csv and drawing usable columns\n",
    "import json\n",
    "import csv\n",
    "#import unicodecsv as csv\n",
    "\n",
    "with open('json/lta-taxi-stop-kml.geojson') as data_file:\n",
    "    data = json.loads(data_file.read())\n",
    "    \n",
    "    #print(data)\n",
    "\n",
    "with open('lta-taxi-stop.csv', 'w+', newline='') as csv_file:\n",
    "    writer = csv.writer(csv_file)\n",
    "\n",
    "    writer.writerow(['longitude', 'latitude'])\n",
    "\n",
    "    for row in data['features']:\n",
    "        long = row['geometry']['coordinates'][0]\n",
    "        lat = row['geometry']['coordinates'][1]\n",
    "        \n",
    "       \n",
    "\n",
    "        longlat = [long, lat]\n",
    "        writer.writerow(longlat)"
   ]
  },
  {
   "cell_type": "code",
   "execution_count": null,
   "metadata": {},
   "outputs": [],
   "source": []
  }
 ],
 "metadata": {
  "kernelspec": {
   "display_name": "Python 3",
   "language": "python",
   "name": "python3"
  },
  "language_info": {
   "codemirror_mode": {
    "name": "ipython",
    "version": 3
   },
   "file_extension": ".py",
   "mimetype": "text/x-python",
   "name": "python",
   "nbconvert_exporter": "python",
   "pygments_lexer": "ipython3",
   "version": "3.7.1"
  }
 },
 "nbformat": 4,
 "nbformat_minor": 2
}
