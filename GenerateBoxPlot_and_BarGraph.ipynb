{
 "cells": [
  {
   "cell_type": "code",
   "execution_count": 43,
   "metadata": {},
   "outputs": [
    {
     "name": "stdout",
     "output_type": "stream",
     "text": [
      "['DTL', 'DTL', 'DTL', 'DTL', 'DTL', 'DTL', 'DTL', 'DTL', 'DTL', 'DTL', 'DTL', 'DTL', 'DTL', 'DTL', 'DTL', 'DTL', 'DTL', 'DTL', 'DTL', 'DTL', 'DTL', 'DTL', 'DTL', 'DTL', 'DTL', 'DTL', 'DTL', 'DTL', 'DTL', 'DTL', 'DTL', 'DTL', 'DTL', 'DTL', 'NEL', 'NEL', 'NEL', 'NEL', 'NEL', 'NEL', 'NEL', 'NEL', 'NEL', 'NEL', 'NEL', 'NEL', 'NEL', 'NEL', 'NEL', 'NEL', 'EWL', 'EWL', 'EWL', 'CGL', 'CGL', 'CGL', 'EWL', 'EWL', 'EWL', 'EWL', 'EWL', 'EWL', 'EWL', 'EWL', 'EWL', 'EWL', 'EWL', 'EWL', 'EWL', 'EWL', 'EWL', 'EWL', 'EWL', 'EWL', 'EWL', 'EWL', 'EWL', 'EWL', 'EWL', 'EWL', 'EWL', 'EWL', 'EWL', 'EWL', 'EWL', 'EWL', 'NSL', 'NSL', 'NSL', 'NSL', 'NSL', 'NSL', 'NSL', 'NSL', 'NSL', 'NSL', 'NSL', 'NSL', 'NSL', 'NSL', 'NSL', 'NSL', 'NSL', 'NSL', 'NSL', 'NSL', 'NSL', 'NSL', 'NSL', 'NSL', 'NSL', 'NSL', 'CCL', 'CCL', 'CCL', 'CCL', 'CCL', 'CCL', 'CCL', 'CCL', 'CCL', 'CCL', 'CCL', 'CCL', 'CCL', 'CCL', 'CCL', 'CCL', 'CCL', 'CCL', 'CCL', 'CCL', 'CCL', 'CCL', 'CCL', 'CCL', 'CCL', 'CCL', 'CCL', 'CCL', 'CCL', 'CCL']\n"
     ]
    }
   ],
   "source": [
    "import pandas as pd\n",
    "import numpy as np\n",
    "\n",
    "df = pd.read_csv('countLongLatName.csv', sep=',',encoding = 'utf8')\n",
    "#print(len(df['Postal']))\n",
    "\n",
    "dfNSL = df[df['Line']==\"NSL\"]\n",
    "dfEWL = df[df['Line']==\"EWL\"]\n",
    "dfCGL = df[df['Line']==\"CGL\"]\n",
    "dfNEL = df[df['Line']==\"NEL\"]\n",
    "dfDTL = df[df['Line']==\"DTL\"]\n",
    "dfCCL = df[df['Line']==\"CCL\"]\n",
    "#print(dfEWL)\n",
    "# append CGL back to NEL\n",
    "dfEWL =dfEWL.append(dfCGL)\n",
    "\n",
    "# change df column to list\n",
    "x = df.Line.tolist()\n",
    "y = df.Count.tolist()\n",
    "\n",
    "\n",
    "#dfEWL = df[(df['Line']=='EWL') or (df['Line']=='CGL')]\n",
    "#print(dfEWL)           \n",
    "\n",
    "#xNSL,yNSL = [dfEWL['Line']], dfEWL['Count']\n",
    "#print(type(xNSL))\n",
    "#print(xNSL,yNSL)\n",
    "\n",
    "#keys = df['Line']\n",
    "#values = df['Count']\n",
    "\n",
    "#dict_xy = dict(zip(keys,values))\n",
    "#print(dict_xy)\n",
    "#print(dict_xy['NEL'])"
   ]
  },
  {
   "cell_type": "code",
   "execution_count": 137,
   "metadata": {},
   "outputs": [
    {
     "name": "stdout",
     "output_type": "stream",
     "text": [
      "NSL 1860\n",
      "EWL 1755\n",
      "DTL 412\n",
      "NEL 66\n",
      "CCL 621\n",
      "{'NSL': 1860, 'EWL': 1755, 'DTL': 412, 'NEL': 66, 'CCL': 621}\n",
      "7.575757575757576\n",
      "    ind Line Station  Count  Longtitude  latitude  Station Name  \\\n",
      "37   37  NEL     NE5      5  103.846555  1.288386   Clarke Quay   \n",
      "38   38  NEL     NE6      5  103.846115  1.298701   Dhoby Ghaut   \n",
      "39   39  NEL     NE7      5  103.849647  1.306800  Little India   \n",
      "\n",
      "                              Name_Count  Percentage  \n",
      "37   Clarke Quay, number of breakdowns:5    7.575758  \n",
      "38   Dhoby Ghaut, number of breakdowns:5    7.575758  \n",
      "39  Little India, number of breakdowns:5    7.575758  \n"
     ]
    }
   ],
   "source": [
    "# list of all lines\n",
    "df = pd.read_csv('countLongLatNameNoCGL.csv', sep=',',encoding = 'utf8')\n",
    "listlines = ['NSL','EWL','DTL','NEL','CCL']\n",
    "\n",
    "# dictionary of total break down per line\n",
    "# CG line is separately do since it is part of NEL but not able to draw as 1\n",
    "dictbreakdownPerline = {}\n",
    "for lines in listlines:\n",
    "    dfCheckline = df[df['Line'] == lines]\n",
    "    sumPerLine = sum(dfCheckline['Count'])\n",
    "    print(lines, sumPerLine)\n",
    "    dictbreakdownPerline[lines] = sumPerLine  # new method to do dictionaries\n",
    "print(dictbreakdownPerline)  # verified against excel is correct\n",
    "\n",
    "# value of EWL add CGL since all on green line\n",
    "#dictbreakdownPerline['EWL'] = dictbreakdownPerline['EWL'] + dictbreakdownPerline['CGL']\n",
    "#print(dictbreakdownPerline['EWL'])\n",
    "\n",
    "# remove 'CGL' key\n",
    "#if 'CGL' in dictbreakdownPerline:\n",
    "#    del dictbreakdownPerline['CGL']\n",
    "\n",
    "\n",
    "\n",
    "#dictbreakdownPerlineCG = {}\n",
    "#listCG = ['CGL']\n",
    "#for lines in listCG:\n",
    "#    dfChecklineCG = df[df['Line'] == lines]\n",
    "#    sumPerLineCG = sum(dfChecklineCG['Count'])\n",
    "#    print(lines, sumPerLineCG)    \n",
    "#    dictbreakdownPerlineCG[lines] = sumPerLineCG\n",
    "#    print(dictbreakdownPerlineCG)\n",
    "#dictbreakdownPerline.update(dictbreakdownPerlineCG)\n",
    "\n",
    "\n",
    "\n",
    "\n",
    "dfcount =[]\n",
    "listPercent = []\n",
    "for row in range(0, len(df['Line'])):\n",
    "    listPercent.append((df['Count'][row]/dictbreakdownPerline[df['Line'][row]])*100)\n",
    "    #print(listPercent)\n",
    "    concat = \"{}, number of breakdowns:{}\".format(df['Station Name'][row], df['Count'][row])\n",
    "    dfcount.append(concat)\n",
    "#print(dfcount)\n",
    "df['Name_Count'] = dfcount\n",
    "df['Percentage'] = listPercent\n",
    "print(max(df['Percentage']))\n",
    "\n",
    "\n",
    "# max percentage break down\n",
    "maxBreakdownPercent = max(df['Percentage'])\n",
    "dfwhichMax = df[df['Percentage']==maxBreakdownPercent]\n",
    "print(dfwhichMax)\n",
    "# min is 0\n",
    "#print(df)\n",
    "\n"
   ]
  },
  {
   "cell_type": "code",
   "execution_count": null,
   "metadata": {},
   "outputs": [],
   "source": [
    "\n",
    "dfAllMrt = pd.read_csv('countLongLatName.csv', sep=',',encoding = 'utf8')\n",
    "\n",
    "\n",
    "# list of all lines\n",
    "listlines = ['NSL','EWL','CGL','DTL','NEL','CCL']\n",
    "\n",
    "# dictionary of total break down per line\n",
    "dictbreakdownPerline = {}\n",
    "for lines in listlines:\n",
    "    dfCheckline = dfAllMrt[dfAllMrt['Line'] == lines]\n",
    "    sumPerLine = sum(dfCheckline['Count'])\n",
    "    print(lines, sumPerLine)\n",
    "    dictbreakdownPerline[lines] = sumPerLine  # new method to do dictionaries\n",
    "print(dictbreakdownPerline)\n",
    "\n",
    "# new column add to df called \" Name_Count\"\n",
    "dfcount =[]\n",
    "listPercent = []\n",
    "for row in range(0, len(dfAllMrt['Line'])):\n",
    "    listPercent.append((dfAllMrt['Count'][row]/dictbreakdownPerline[dfAllMrt['Line'][row]])*100)\n",
    "    concat = \"{}, number of breakdowns:{}\".format(dfAllMrt['Station Name'][row], dfAllMrt['Count'][row])\n",
    "    dfcount.append(concat)\n",
    "#print(dfcount)\n",
    "dfAllMrt['Name_Count'] = dfcount\n",
    "dfAllMrt['Percentage'] = listPercent"
   ]
  },
  {
   "cell_type": "code",
   "execution_count": 95,
   "metadata": {},
   "outputs": [
    {
     "name": "stdout",
     "output_type": "stream",
     "text": [
      "['Jurong East', 'Bukit Batok', 'Bukit Gombak', 'Choa Chu Kang', 'Yew Tee', 'Kranji', 'Marsiling', 'Woodlands', 'Admiralty', 'Sembawang', 'Yishun', 'Khatib', 'Yio Chu Kang', 'Ang Mo Kio', 'Bishan', 'Braddell', 'Toa Payoh', 'Novena', 'Newton', 'Orchard', 'Somerset', 'Dhoby Ghaut', 'City Hall', 'Raffles Place', 'Marina Bay', 'Marina South Pier']\n",
      "[53, 54, 54, 56, 57, 55, 55, 62, 60, 65, 79, 73, 76, 89, 88, 82, 85, 81, 86, 86, 85, 86, 84, 89, 88, 32]\n"
     ]
    }
   ],
   "source": [
    "# make x and y for barchart\n",
    "# list of all lines\n",
    "df = pd.read_csv('countLongLatNameNoCGL.csv', sep=',',encoding = 'utf8')\n",
    "dfNSL = df[df['Line']==\"NSL\"]\n",
    "dfEWL = df[df['Line']==\"EWL\"]\n",
    "dfNEL = df[df['Line']==\"NEL\"]\n",
    "dfDTL = df[df['Line']==\"DTL\"]\n",
    "dfCCL = df[df['Line']==\"CCL\"]\n",
    "\n",
    "print(dfNSL['Station Name'].tolist())\n",
    "print(dfNSL['Count'].tolist())\n"
   ]
  },
  {
   "cell_type": "code",
   "execution_count": 97,
   "metadata": {
    "scrolled": false
   },
   "outputs": [
    {
     "name": "stdout",
     "output_type": "stream",
     "text": [
      "4714\n",
      "[0.2757742893508698, 0.2757742893508698, 0.2757742893508698, 0.2757742893508698, 0.2757742893508698, 0.2757742893508698, 0.2545608824777259, 0.2757742893508698, 0.2757742893508698, 0.2757742893508698, 0.2757742893508698, 0.2757742893508698, 0.2757742893508698, 0.2757742893508698, 0.2757742893508698, 0.2969876962240136, 0.2969876962240136, 0.2969876962240136, 0.23334747560458208, 0.23334747560458208, 0.23334747560458208, 0.23334747560458208, 0.23334747560458208, 0.23334747560458208, 0.23334747560458208, 0.23334747560458208, 0.23334747560458208, 0.23334747560458208, 0.23334747560458208, 0.23334747560458208, 0.23334747560458208, 0.23334747560458208, 0.23334747560458208, 0.23334747560458208, 0.06364022061943148, 0.0848536274925753, 0.0848536274925753, 0.10606703436571914, 0.10606703436571914, 0.10606703436571914, 0.0848536274925753, 0.0848536274925753, 0.0848536274925753, 0.0848536274925753, 0.0848536274925753, 0.0848536274925753, 0.0848536274925753, 0.0848536274925753, 0.0848536274925753, 0.0848536274925753, 1.2940178192617735, 1.336444633008061, 1.2091641917691982, 0.2969876962240136, 0.2545608824777259, 1.5485787017394994, 1.2940178192617735, 1.2728044123886295, 1.336444633008061, 1.2515910055154857, 1.230377598642342, 1.1455239711497667, 1.0818837505303351, 1.1455239711497667, 1.0182435299109036, 1.0182435299109036, 1.0818837505303351, 1.1667373780229104, 1.1030971574034791, 1.1455239711497667, 1.3576580398812048, 1.336444633008061, 1.3788714467543488, 1.3576580398812048, 1.4849384811200679, 1.591005515485787, 1.1455239711497667, 1.0818837505303351, 1.2515910055154857, 1.1030971574034791, 1.124310564276623, 0.21213406873143828, 0.19092066185829445, 0.19092066185829445, 0.19092066185829445, 1.124310564276623, 1.1455239711497667, 1.1455239711497667, 1.1879507848960544, 1.2091641917691982, 1.1667373780229104, 1.1667373780229104, 1.3152312261349173, 1.2728044123886295, 1.3788714467543488, 1.6758591429783622, 1.5485787017394994, 1.612218922358931, 1.8879932117098006, 1.8667798048366566, 1.7394993635977938, 1.8031395842172255, 1.7182859567246502, 1.824352991090369, 1.824352991090369, 1.8031395842172255, 1.824352991090369, 1.7819261773440815, 1.8879932117098006, 1.8667798048366566, 0.6788290199406024, 0.3818413237165889, 0.3818413237165889, 0.3818413237165889, 0.46669495120916415, 0.40305473058973273, 0.40305473058973273, 0.36062791684344503, 0.3394145099703012, 0.46669495120916415, 0.40305473058973273, 0.40305473058973273, 0.42426813746287656, 0.42426813746287656, 0.42426813746287656, 0.4454815443360204, 0.42426813746287656, 0.6788290199406024, 0.6576156130674586, 0.6576156130674586, 0.615188799321171, 0.4454815443360204, 0.40305473058973273, 0.4454815443360204, 0.4454815443360204, 0.4454815443360204, 0.5727619855748833, 0.5727619855748833, 0.5727619855748833, 0.06364022061943148, 0.06364022061943148]\n"
     ]
    }
   ],
   "source": [
    "# checking total count\n",
    "df = pd.read_csv('countLongLatNameNoCGL.csv', sep=',',encoding = 'utf8')\n",
    "\n",
    "\n",
    "# list of all lines\n",
    "listlines = ['NSL','EWL','DTL','NEL','CCL']\n",
    "\n",
    "# Count total number of breakdowns across all the stations in our dataframe\n",
    "totalCount =  sum(df.Count)\n",
    "print(totalCount)\n",
    "\n",
    "# new column add to df called \" Name_Count\"\n",
    "dfcount =[]\n",
    "listPercent = []\n",
    "for row in range(0, len(df['Line'])):\n",
    "    listPercent.append((df['Count'][row]/totalCount)*100)\n",
    "print(listPercent)"
   ]
  },
  {
   "cell_type": "code",
   "execution_count": 1,
   "metadata": {},
   "outputs": [
    {
     "name": "stdout",
     "output_type": "stream",
     "text": [
      "1.8879932117098006\n"
     ]
    }
   ],
   "source": [
    "# code for the calculator \n",
    "import pandas as pd\n",
    "df = pd.read_csv('countLongLatNameNoCGL.csv', sep=',',encoding = 'utf8')\n",
    "\n",
    "# make the Percentage column\n",
    "# list of all lines\n",
    "listlines = ['NSL','EWL','DTL','NEL','CCL']\n",
    "\n",
    "# Count total number of breakdowns across all the stations in our dataframe\n",
    "totalCount =  sum(df.Count)\n",
    "\n",
    "# new column add to df called \" Name_Count\"\n",
    "dfcount =[]\n",
    "listPercent = []\n",
    "for row in range(0, len(df['Line'])):\n",
    "    listPercent.append((df['Count'][row]/totalCount)*100)\n",
    "    #print(listPercent)\n",
    "    concat = \"{}, number of breakdowns:{}\".format(df['Station Name'][row], df['Count'][row])\n",
    "    dfcount.append(concat)\n",
    "#print(dfcount)\n",
    "df['Name_Count'] = dfcount\n",
    "df['Percentage'] = listPercent  # percentage of breakdown per station over all breakdowns possible\n",
    "print(max(df['Percentage']))\n",
    "\n",
    "# for a given output thr the DASH\n",
    "\n",
    "chooseMRTline = 'NSL'\n",
    "stationFrom =  'Woodlands'\n",
    "stationTo = 'Marina Bay'\n",
    "\n",
    "def breakdowncalculator(df, chooseMRTline,stationFrom, stationTo):\n",
    "    dfline = df[df['Line']==chooseMRTline]\n",
    "    dfstationFr = dfline[dfline['Station Name']== stationFrom] ###### ask\n",
    "    dfstationTo = dfline[dfline['Station Name']==stationTo]\n",
    "    indexFr = int(dfstationFr['ind'])\n",
    "    indexTo = int(dfstationTo['ind'])\n",
    "    #print(indexFr, indexTo)\n",
    "\n",
    "    # to get all the indexes between index from and index to\n",
    "    if indexFr > indexTo:\n",
    "        listFrTo = []\n",
    "        for i in range(indexTo,indexFr + 1 ):\n",
    "            listFrTo.append(i)\n",
    "            #print(i)\n",
    "    elif indexFr < indexTo:\n",
    "        listFrTo = []\n",
    "        for i in range(indexFr, indexTo + 1 ):\n",
    "            listFrTo.append(i)\n",
    "            #print(i)\n",
    "    else :\n",
    "        listFrTo = indexFr\n",
    "        #print(listFrTo)\n",
    "\n",
    "    # use the indexes to draw out the \n",
    "    dfPerFrTo = df[df['ind'].isin(listFrTo)]\n",
    "    dfSumPerFrTo = sum(dfPerFrTo['Percentage'])\n",
    "    return(dfSumPerFrTo)"
   ]
  },
  {
   "cell_type": "code",
   "execution_count": 4,
   "metadata": {},
   "outputs": [
    {
     "ename": "TypeError",
     "evalue": "cannot convert the series to <class 'int'>",
     "output_type": "error",
     "traceback": [
      "\u001b[1;31m---------------------------------------------------------------------------\u001b[0m",
      "\u001b[1;31mTypeError\u001b[0m                                 Traceback (most recent call last)",
      "\u001b[1;32m<ipython-input-4-495ced5baea1>\u001b[0m in \u001b[0;36m<module>\u001b[1;34m()\u001b[0m\n\u001b[0;32m      1\u001b[0m \u001b[1;32mimport\u001b[0m \u001b[0mMRTbreakdownCalculator\u001b[0m\u001b[1;33m\u001b[0m\u001b[1;33m\u001b[0m\u001b[0m\n\u001b[1;32m----> 2\u001b[1;33m \u001b[0mMRTbreakdownCalculator\u001b[0m\u001b[1;33m.\u001b[0m\u001b[0mbreakdowncalculator\u001b[0m\u001b[1;33m(\u001b[0m\u001b[0mdf\u001b[0m\u001b[1;33m,\u001b[0m\u001b[1;34m'NSL'\u001b[0m\u001b[1;33m,\u001b[0m\u001b[1;34m''\u001b[0m\u001b[1;33m,\u001b[0m\u001b[1;34m'Marina Bay'\u001b[0m\u001b[1;33m)\u001b[0m\u001b[1;33m\u001b[0m\u001b[1;33m\u001b[0m\u001b[0m\n\u001b[0m",
      "\u001b[1;32m~\\Desktop\\IT8701_SP\\Assignment 2\\MRT\\MRTbreakdownCalculator.py\u001b[0m in \u001b[0;36mbreakdowncalculator\u001b[1;34m(df, chooseMRTline, stationFrom, stationTo)\u001b[0m\n\u001b[0;32m      3\u001b[0m     \u001b[0mdfstationFr\u001b[0m \u001b[1;33m=\u001b[0m \u001b[0mdfline\u001b[0m\u001b[1;33m[\u001b[0m\u001b[0mdfline\u001b[0m\u001b[1;33m[\u001b[0m\u001b[1;34m'Station Name'\u001b[0m\u001b[1;33m]\u001b[0m\u001b[1;33m==\u001b[0m \u001b[0mstationFrom\u001b[0m\u001b[1;33m]\u001b[0m \u001b[1;31m###### ask\u001b[0m\u001b[1;33m\u001b[0m\u001b[1;33m\u001b[0m\u001b[0m\n\u001b[0;32m      4\u001b[0m     \u001b[0mdfstationTo\u001b[0m \u001b[1;33m=\u001b[0m \u001b[0mdfline\u001b[0m\u001b[1;33m[\u001b[0m\u001b[0mdfline\u001b[0m\u001b[1;33m[\u001b[0m\u001b[1;34m'Station Name'\u001b[0m\u001b[1;33m]\u001b[0m\u001b[1;33m==\u001b[0m\u001b[0mstationTo\u001b[0m\u001b[1;33m]\u001b[0m\u001b[1;33m\u001b[0m\u001b[1;33m\u001b[0m\u001b[0m\n\u001b[1;32m----> 5\u001b[1;33m     \u001b[0mindexFr\u001b[0m \u001b[1;33m=\u001b[0m \u001b[0mint\u001b[0m\u001b[1;33m(\u001b[0m\u001b[0mdfstationFr\u001b[0m\u001b[1;33m[\u001b[0m\u001b[1;34m'ind'\u001b[0m\u001b[1;33m]\u001b[0m\u001b[1;33m)\u001b[0m\u001b[1;33m\u001b[0m\u001b[1;33m\u001b[0m\u001b[0m\n\u001b[0m\u001b[0;32m      6\u001b[0m     \u001b[0mindexTo\u001b[0m \u001b[1;33m=\u001b[0m \u001b[0mint\u001b[0m\u001b[1;33m(\u001b[0m\u001b[0mdfstationTo\u001b[0m\u001b[1;33m[\u001b[0m\u001b[1;34m'ind'\u001b[0m\u001b[1;33m]\u001b[0m\u001b[1;33m)\u001b[0m\u001b[1;33m\u001b[0m\u001b[1;33m\u001b[0m\u001b[0m\n\u001b[0;32m      7\u001b[0m     \u001b[1;31m#print(indexFr, indexTo)\u001b[0m\u001b[1;33m\u001b[0m\u001b[1;33m\u001b[0m\u001b[1;33m\u001b[0m\u001b[0m\n",
      "\u001b[1;32mC:\\ProgramData\\Anaconda3\\lib\\site-packages\\pandas\\core\\series.py\u001b[0m in \u001b[0;36mwrapper\u001b[1;34m(self)\u001b[0m\n\u001b[0;32m    116\u001b[0m             \u001b[1;32mreturn\u001b[0m \u001b[0mconverter\u001b[0m\u001b[1;33m(\u001b[0m\u001b[0mself\u001b[0m\u001b[1;33m.\u001b[0m\u001b[0miloc\u001b[0m\u001b[1;33m[\u001b[0m\u001b[1;36m0\u001b[0m\u001b[1;33m]\u001b[0m\u001b[1;33m)\u001b[0m\u001b[1;33m\u001b[0m\u001b[1;33m\u001b[0m\u001b[0m\n\u001b[0;32m    117\u001b[0m         raise TypeError(\"cannot convert the series to \"\n\u001b[1;32m--> 118\u001b[1;33m                         \"{0}\".format(str(converter)))\n\u001b[0m\u001b[0;32m    119\u001b[0m \u001b[1;33m\u001b[0m\u001b[0m\n\u001b[0;32m    120\u001b[0m     \u001b[1;32mreturn\u001b[0m \u001b[0mwrapper\u001b[0m\u001b[1;33m\u001b[0m\u001b[1;33m\u001b[0m\u001b[0m\n",
      "\u001b[1;31mTypeError\u001b[0m: cannot convert the series to <class 'int'>"
     ]
    }
   ],
   "source": [
    "import MRTbreakdownCalculator \n",
    "MRTbreakdownCalculator.breakdowncalculator(df,'NSL','Woodlands','Marina Bay')\n"
   ]
  },
  {
   "cell_type": "code",
   "execution_count": null,
   "metadata": {},
   "outputs": [],
   "source": []
  }
 ],
 "metadata": {
  "kernelspec": {
   "display_name": "Python 3",
   "language": "python",
   "name": "python3"
  },
  "language_info": {
   "codemirror_mode": {
    "name": "ipython",
    "version": 3
   },
   "file_extension": ".py",
   "mimetype": "text/x-python",
   "name": "python",
   "nbconvert_exporter": "python",
   "pygments_lexer": "ipython3",
   "version": "3.7.1"
  }
 },
 "nbformat": 4,
 "nbformat_minor": 2
}
