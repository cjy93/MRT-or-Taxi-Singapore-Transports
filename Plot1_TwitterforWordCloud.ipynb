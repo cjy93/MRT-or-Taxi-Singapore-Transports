{
 "cells": [
  {
   "cell_type": "code",
   "execution_count": 3,
   "metadata": {},
   "outputs": [
    {
     "name": "stdout",
     "output_type": "stream",
     "text": [
      "Po5Wa7zWutOLD3lquvpGUDUBF\n",
      "Getting tweet for leehsienloong\n",
      "Getting tweet for govsingapore\n",
      "Getting tweet for PAPSingapore\n",
      "Getting tweet for wpsg\n",
      "Getting tweet for TPPSG\n",
      "Getting tweet for thereformparty\n",
      "Getting tweet for PeoplesPowerSG\n",
      "DONE!\n"
     ]
    }
   ],
   "source": [
    "# twitter from Online\n",
    "# -*- coding: utf-8 -*-\n",
    "import tweepy\n",
    "import json\n",
    "import csv\n",
    "\n",
    "import tweepbotconfig as config\n",
    "\n",
    "#Credentials for Tweepy\n",
    "CONSUMER_KEY = config.data['CONSUMER_KEY']\n",
    "CONSUMER_SECRET = config.data['CONSUMER_SECRET']\n",
    "ACCESS_TOKEN = config.data['ACCESS_TOKEN']\n",
    "ACCESS_SECRET = config.data['ACCESS_SECRET']\n",
    "#BITLY_KEY = config.data['BITLY_KEY']\n",
    "print(CONSUMER_KEY)\n",
    "\n",
    "\n",
    "def get_tweets(api, screen_name):\n",
    "\t#http://docs.tweepy.org/en/v3.5.0/api.html#timeline-methods\n",
    "\t#API.user_timeline([id/user_id/screen_name][, since_id][, max_id][, count][, page])\n",
    "\t#structure of status object https://gist.github.com/dev-techmoe/ef676cdd03ac47ac503e856282077bf2\n",
    "\ttweets = []\n",
    "\tnew_tweets = api.user_timeline(screen_name, count=200, tweet_mode=\"extended\")\n",
    "\tif not new_tweets:\n",
    "\t\treturn 1\n",
    "\toldest = new_tweets[-1].id - 1  #is to get the oldest id since new_tweets[-1]\n",
    "\ttweets.extend(new_tweets)\n",
    "\n",
    "\t#save and remember last tweet id\n",
    "\t#next query max_id = last tweet id - 1\n",
    "\t#keep grabbing tweets until there are no tweets left to grab\n",
    "\t#https://gist.github.com/yanofsky/5436496\n",
    "\twhile True:\n",
    "\n",
    "\t\t#all subsequent requests use the max_id param to prevent duplicates\n",
    "\t\tnew_tweets = api.user_timeline(\n",
    "\t\t\tscreen_name=screen_name, count=200, max_id=oldest, tweet_mode=\"extended\")\n",
    "\t\tif len(new_tweets) == 0:\n",
    "\t\t\tbreak\n",
    "\t\t#save most recent tweets\n",
    "\t\ttweets.extend(new_tweets)\n",
    "\n",
    "\t\t#update the id of the oldest tweet less one\n",
    "\t\toldest = tweets[-1].id - 1\n",
    "\n",
    "\t#transform the tweepy tweets into a 2D array that will populate the csv\n",
    "\touttweets = [[tweet.id_str, tweet.created_at,\n",
    "\t\t\t   (' '.join(tweet.full_text.splitlines())).lower()] for tweet in tweets]\n",
    "\n",
    "\t#write the csv\n",
    "\t#with open('{}_tweets.json'.format(screen_name), 'w+', encoding='utf-8') as f:\n",
    "\t\t#json.dump(outtweets, f)\n",
    "\twith open('{}_output.csv'.format(screen_name),'a+', encoding='utf-8', newline='') as f:\n",
    "\t\twriter = csv.writer(f, delimiter=',') # to insert new line, so the above line no need to add newline\n",
    "\t\twriter.writerow(['id', 'created_at', 'full_text'])\n",
    "\t\twriter.writerows(outtweets)\n",
    "\n",
    "\n",
    "if __name__ == '__main__':\n",
    "# run this file independently, not as library. so this functions below the run independently when not called as library\n",
    "\t#authentication\n",
    "\tauth = tweepy.OAuthHandler(CONSUMER_KEY, CONSUMER_SECRET)\n",
    "\tauth.set_access_token(ACCESS_TOKEN, ACCESS_SECRET)\n",
    "\tapi = tweepy.API(auth)\n",
    "\t#pass in screen name\n",
    "\tname_list = ['leehsienloong', 'govsingapore', 'PAPSingapore','wpsg','TPPSG','thereformparty','PeoplesPowerSG']\n",
    "\tfor name in name_list:\n",
    "\t\tprint(\"Getting tweet for {}\".format(name))          \n",
    "\t\tget_tweets(api, name)\n",
    "print(\"DONE!\")"
   ]
  },
  {
   "cell_type": "code",
   "execution_count": null,
   "metadata": {},
   "outputs": [],
   "source": []
  }
 ],
 "metadata": {
  "kernelspec": {
   "display_name": "Python 3",
   "language": "python",
   "name": "python3"
  },
  "language_info": {
   "codemirror_mode": {
    "name": "ipython",
    "version": 3
   },
   "file_extension": ".py",
   "mimetype": "text/x-python",
   "name": "python",
   "nbconvert_exporter": "python",
   "pygments_lexer": "ipython3",
   "version": "3.7.1"
  }
 },
 "nbformat": 4,
 "nbformat_minor": 2
}
