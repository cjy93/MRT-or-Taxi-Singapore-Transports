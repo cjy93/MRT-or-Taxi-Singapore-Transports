{
 "cells": [
  {
   "cell_type": "code",
   "execution_count": 26,
   "metadata": {},
   "outputs": [],
   "source": [
    "import pymongo\n",
    "from pymongo import MongoClient\n",
    "import pandas as pd\n",
    "import numpy as np\n",
    "\n",
    "### No need to run again once run because it will accumulate in MongoDB\n",
    "\n",
    "# call out the csv file\n",
    "df = pd.read_csv('data/public-transport-utilisation-average-trip-distance/public-transport-utilisation-average-trip-distance.csv', sep=',')\n",
    "#print(df['year'][1])\n",
    "\n",
    "\n",
    "# to push in the dataset into MongoDB\n",
    "client = MongoClient()\n",
    "db = client.publicTransportAvgDist # client.database_name\n",
    "collection = db.publicAvgDist #db.collection_name\n",
    "#print(collection)\n",
    "\n",
    "for i in range(0,len(df)):\n",
    "    #print(type(df['year'][i]))\n",
    "    #print({\"year\": df['year'][i]})\n",
    "    collection.insert_one({\"year\": int(df['year'][i]),\n",
    "                           \"mode\": df['mode'][i],\n",
    "                          \"ave_distance_per_trip\":df['ave_distance_per_trip'][i]}) # convert to python int not numpy int\n",
    "\n",
    "    \n",
    "# Plot the graph using seaborn\n",
    "\n",
    "\n",
    "# https://stackoverflow.com/questions/30098263/inserting-a-document-with-pymongo-invaliddocument-cannot-encode-object?rq=1"
   ]
  },
  {
   "cell_type": "code",
   "execution_count": 38,
   "metadata": {},
   "outputs": [
    {
     "name": "stdout",
     "output_type": "stream",
     "text": [
      "                         _id  ave_distance_per_trip  mode  year\n",
      "0   5c5446c0b741c1062c67a555                   11.5   MRT  2004\n",
      "1   5c5446c0b741c1062c67a556                    0.0   LRT  2004\n",
      "2   5c5446c0b741c1062c67a557                    5.2   Bus  2004\n",
      "3   5c5446c0b741c1062c67a558                    8.5  Taxi  2004\n",
      "4   5c5446c0b741c1062c67a559                   11.5   MRT  2005\n",
      "5   5c5446c0b741c1062c67a55a                    0.0   LRT  2005\n",
      "6   5c5446c0b741c1062c67a55b                    5.4   Bus  2005\n",
      "7   5c5446c0b741c1062c67a55c                    8.8  Taxi  2005\n",
      "8   5c5446c0b741c1062c67a55d                   11.3   MRT  2006\n",
      "9   5c5446c0b741c1062c67a55e                    0.0   LRT  2006\n",
      "10  5c5446c0b741c1062c67a55f                    5.3   Bus  2006\n",
      "11  5c5446c0b741c1062c67a560                    9.1  Taxi  2006\n",
      "12  5c5446c0b741c1062c67a561                   11.2   MRT  2007\n",
      "13  5c5446c0b741c1062c67a562                    0.0   LRT  2007\n",
      "14  5c5446c0b741c1062c67a563                    5.3   Bus  2007\n",
      "15  5c5446c0b741c1062c67a564                    9.7  Taxi  2007\n",
      "16  5c5446c0b741c1062c67a565                   11.2   MRT  2008\n",
      "17  5c5446c0b741c1062c67a566                    2.1   LRT  2008\n",
      "18  5c5446c0b741c1062c67a567                    5.3   Bus  2008\n",
      "19  5c5446c0b741c1062c67a568                    9.0  Taxi  2008\n",
      "20  5c5446c0b741c1062c67a569                   10.8   MRT  2009\n",
      "21  5c5446c0b741c1062c67a56a                    2.1   LRT  2009\n",
      "22  5c5446c0b741c1062c67a56b                    5.1   Bus  2009\n",
      "23  5c5446c0b741c1062c67a56c                    9.0  Taxi  2009\n",
      "24  5c5446c0b741c1062c67a56d                   10.3   MRT  2010\n",
      "25  5c5446c0b741c1062c67a56e                    2.1   LRT  2010\n",
      "26  5c5446c0b741c1062c67a56f                    4.8   Bus  2010\n",
      "27  5c5446c0b741c1062c67a570                    9.3  Taxi  2010\n",
      "28  5c5446c0b741c1062c67a571                   10.0   MRT  2011\n",
      "29  5c5446c0b741c1062c67a572                    2.0   LRT  2011\n",
      "30  5c5446c0b741c1062c67a573                    4.5   Bus  2011\n",
      "31  5c5446c0b741c1062c67a574                    9.6  Taxi  2011\n",
      "32  5c5446c0b741c1062c67a575                    9.6   MRT  2012\n",
      "33  5c5446c0b741c1062c67a576                    1.0   LRT  2012\n",
      "34  5c5446c0b741c1062c67a577                    4.4   Bus  2012\n",
      "35  5c5446c0b741c1062c67a578                    9.7  Taxi  2012\n",
      "36  5c5446c0b741c1062c67a579                    9.5   MRT  2013\n",
      "37  5c5446c0b741c1062c67a57a                    2.0   LRT  2013\n",
      "38  5c5446c0b741c1062c67a57b                    4.3   Bus  2013\n",
      "39  5c5446c0b741c1062c67a57c                    9.8  Taxi  2013\n",
      "40  5c5446c0b741c1062c67a57d                    9.2   MRT  2014\n",
      "41  5c5446c0b741c1062c67a57e                    2.0   LRT  2014\n",
      "42  5c5446c0b741c1062c67a57f                    4.3   Bus  2014\n",
      "43  5c5446c0b741c1062c67a580                   10.0  Taxi  2014\n"
     ]
    },
    {
     "data": {
      "text/plain": [
       "<seaborn.axisgrid.FacetGrid at 0x24606ce7cf8>"
      ]
     },
     "execution_count": 38,
     "metadata": {},
     "output_type": "execute_result"
    },
    {
     "data": {
      "image/png": "[encoded data removed]",
      "text/plain": [
       "<Figure size 777.6x194.4 with 4 Axes>"
      ]
     },
     "metadata": {},
     "output_type": "display_data"
    }
   ],
   "source": [
    "import pymongo\n",
    "from pymongo import MongoClient\n",
    "import pandas as pd\n",
    "import numpy as np\n",
    "import seaborn as sns\n",
    "import matplotlib.pyplot as plt\n",
    "\n",
    "\n",
    "# call out dataset from MongoDB\n",
    "client = MongoClient()\n",
    "db = client.publicTransportAvgDist # client.database_name\n",
    "collection = db.publicAvgDist #db.collection_name\n",
    "\n",
    "cursor = collection.find({})\n",
    "# Expand the cursor and construct the DataFrame\n",
    "df =  pd.DataFrame(list(cursor))\n",
    "print(df)\n",
    "#cursorList = list(cursor)  # when you list(cursor), cursor has changed also\n",
    "\n",
    "\n",
    "\n",
    "    \n",
    "# Seaborn to plot graphs\n",
    "sns.set(style=\"ticks\")\n",
    "\n",
    "# Initialize a grid of plots with an Axes for each walk\n",
    "grid = sns.FacetGrid(df, col=\"mode\", hue=\"year\", palette=\"tab20c\",\n",
    "                     col_wrap=4, height= 2.7)\n",
    "\n",
    "# Adjust the tick positions and labels\n",
    "grid.set(xlim=(2004, 2015))\n",
    "\n",
    "# Draw a line plot to show the trajectory of each random walk\n",
    "grid.map(plt.plot, \"year\", \"ave_distance_per_trip\", marker=\"o\")\n",
    "\n",
    "\n",
    "\n",
    "\n",
    "#https://seaborn.pydata.org/examples/many_facets.html"
   ]
  },
  {
   "cell_type": "code",
   "execution_count": null,
   "metadata": {},
   "outputs": [],
   "source": [
    "\n"
   ]
  },
  {
   "cell_type": "code",
   "execution_count": null,
   "metadata": {},
   "outputs": [],
   "source": []
  },
  {
   "cell_type": "code",
   "execution_count": null,
   "metadata": {},
   "outputs": [],
   "source": []
  }
 ],
 "metadata": {
  "kernelspec": {
   "display_name": "Python 3",
   "language": "python",
   "name": "python3"
  },
  "language_info": {
   "codemirror_mode": {
    "name": "ipython",
    "version": 3
   },
   "file_extension": ".py",
   "mimetype": "text/x-python",
   "name": "python",
   "nbconvert_exporter": "python",
   "pygments_lexer": "ipython3",
   "version": "3.7.1"
  }
 },
 "nbformat": 4,
 "nbformat_minor": 2
}
