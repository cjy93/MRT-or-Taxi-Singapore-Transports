{
 "cells": [
  {
   "cell_type": "code",
   "execution_count": 2,
   "metadata": {},
   "outputs": [
    {
     "name": "stderr",
     "output_type": "stream",
     "text": [
      "C:\\ProgramData\\Anaconda3\\lib\\site-packages\\IPython\\core\\interactiveshell.py:2785: DtypeWarning: Columns (5) have mixed types. Specify dtype option on import or set low_memory=False.\n",
      "  interactivity=interactivity, compiler=compiler, result=result)\n"
     ]
    }
   ],
   "source": [
    "import pandas as pd\n",
    "import numpy as np\n",
    "import csv\n",
    "\n",
    "df = pd.read_csv('add_postal/buildingsPostalTabFinal.csv', sep=',',encoding = 'utf8')\n",
    "#print(len(df['Postal']))\n",
    "\n",
    "with open('Concat_Add_PostalCode_distbtw2Pts.csv', 'w+', newline='',encoding='utf8') as csv_file:\n",
    "    writer = csv.writer(csv_file)\n",
    "\n",
    "    writer.writerow(['address_postalCode','LongitudeLatitude' ])\n",
    "\n",
    "    for row in range(0,len(df['Postal'])):    \n",
    "        #print(df['Postal'][row])\n",
    "        abc = \"{}_{}\".format(df['Longitude'][row], df['Latitude'][row])\n",
    "        #print(abc)\n",
    "        #print(df['Postal'][row])\n",
    "        merged = [df['Address'][row],abc]\n",
    "        #print(merged)\n",
    "        writer.writerow(merged)             \n",
    "\n"
   ]
  },
  {
   "cell_type": "code",
   "execution_count": 21,
   "metadata": {},
   "outputs": [
    {
     "name": "stdout",
     "output_type": "stream",
     "text": [
      "001234\n"
     ]
    }
   ],
   "source": [
    "postal = 1234\n",
    "a = \"{:06}\".format(postal)\n",
    "print(a)"
   ]
  }
 ],
 "metadata": {
  "kernelspec": {
   "display_name": "Python 3",
   "language": "python",
   "name": "python3"
  },
  "language_info": {
   "codemirror_mode": {
    "name": "ipython",
    "version": 3
   },
   "file_extension": ".py",
   "mimetype": "text/x-python",
   "name": "python",
   "nbconvert_exporter": "python",
   "pygments_lexer": "ipython3",
   "version": "3.7.1"
  }
 },
 "nbformat": 4,
 "nbformat_minor": 2
}
